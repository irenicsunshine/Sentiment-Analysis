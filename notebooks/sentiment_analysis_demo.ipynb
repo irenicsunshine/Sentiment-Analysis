{
 "cells": [
  {
   "cell_type": "markdown",
   "metadata": {},
   "source": [
    "# Sentiment Analysis Demo\n",
    "\n",
    "This notebook demonstrates how to use the sentiment analysis system we've built from scratch."
   ]
  },
  {
   "cell_type": "code",
   "execution_count": null,
   "metadata": {},
   "outputs": [],
   "source": [
    "import sys\n",
    "import os\n",
    "import pandas as pd\n",
    "import numpy as np\n",
    "import matplotlib.pyplot as plt\n",
    "import seaborn as sns\n",
    "\n",
    "# Add the parent directory to the path so we can import our modules\n",
    "sys.path.append(os.path.dirname(os.path.dirname(os.path.abspath('__file__'))))\n",
    "\n",
    "from src.preprocess import TextPreprocessor, download_sample_dataset\n",
    "from src.features import FeatureExtractor\n",
    "from src.model import SentimentModel\n",
    "\n",
    "%matplotlib inline"
   ]
  },
  {
   "cell_type": "markdown",
   "metadata": {},
   "source": [
    "## 1. Download Sample Dataset\n",
    "\n",
    "First, we'll download a sample dataset for sentiment analysis. This is a small collection of movie reviews."
   ]
  },
  {
   "cell_type": "code",
   "execution_count": null,
   "metadata": {},
   "outputs": [],
   "source": [
    "# Download sample dataset\n",
    "data_path = '../data/imdb_sample.csv'\n",
    "df = download_sample_dataset(data_path)\n",
    "df"
   ]
  },
  {
   "cell_type": "markdown",
   "metadata": {},
   "source": [
    "## 2. Explore the Data\n",
    "\n",
    "Let's explore the dataset to understand what we're working with."
   ]
  },
  {
   "cell_type": "code",
   "execution_count": null,
   "metadata": {},
   "outputs": [],
   "source": [
    "# Show basic statistics\n",
    "print(\"Dataset shape:\", df.shape)\n",
    "print(\"\\nSentiment value counts:\")\n",
    "print(df['sentiment'].value_counts())\n",
    "\n",
    "# Visualize sentiment distribution\n",
    "plt.figure(figsize=(8, 5))\n",
    "sns.countplot(x='sentiment', data=df)\n",
    "plt.title('Sentiment Distribution')\n",
    "plt.xlabel('Sentiment (0 = Negative, 1 = Positive)')\n",
    "plt.ylabel('Count')\n",
    "plt.show()"
   ]
  },
  {
   "cell_type": "markdown",
   "metadata": {},
   "source": [
    "Let's also look at some examples of positive and negative reviews:"
   ]
  },
  {
   "cell_type": "code",
   "execution_count": null,
   "metadata": {},
   "outputs": [],
   "source": [
    "# Show examples of positive reviews\n",
    "print(\"Positive review examples:\")\n",
    "for review in df[df['sentiment'] == 1]['review'].head(2):\n",
    "    print(f\"\\n{review}\")\n",
    "\n",
    "# Show examples of negative reviews\n",
    "print(\"\\n\\nNegative review examples:\")\n",
    "for review in df[df['sentiment'] == 0]['review'].head(2):\n",
    "    print(f\"\\n{review}\")"
   ]
  },
  {
   "cell_type": "markdown",
   "metadata": {},
   "source": [
    "## 3. Preprocess the Text Data\n",
    "\n",
    "Next, we'll preprocess the text data to prepare it for feature extraction."
   ]
  },
  {
   "cell_type": "code",
   "execution_count": null,
   "metadata": {},
   "outputs": [],
   "source": [
    "# Initialize the text preprocessor\n",
    "preprocessor = TextPreprocessor(remove_stopwords=True, lemmatize=True)\n",
    "\n",
    "# Preprocess the data\n",
    "processed_df = preprocessor.preprocess_data(df, 'review', 'sentiment')\n",
    "\n",
    "# Display the original and cleaned text for a few examples\n",
    "for i in range(3):\n",
    "    print(f\"\\nExample {i+1}:\")\n",
    "    print(f\"Original: {df['review'].iloc[i]}\")\n",
    "    print(f\"Cleaned: {processed_df['cleaned_text'].iloc[i]}\")"
   ]
  },
  {
   "cell_type": "markdown",
   "metadata": {},
   "source": [
    "## 4. Extract Features\n",
    "\n",
    "We'll use TF-IDF to convert the text into numerical features that our model can understand."
   ]
  },
  {
   "cell_type": "code",
   "execution_count": null,
   "metadata": {},
   "outputs": [],
   "source": [
    "# Initialize the feature extractor\n",
    "feature_extractor = FeatureExtractor(method='tfidf', max_features=1000, ngram_range=(1, 2))\n",
    "\n",
    "# Extract features\n",
    "X = feature_extractor.fit_transform(processed_df['cleaned_text'])\n",
    "y = processed_df['sentiment']\n",
    "\n",
    "print(f\"Feature matrix shape: {X.shape}\")\n",
    "\n",
    "# Show a few feature names\n",
    "feature_names = feature_extractor.get_feature_names()\n",
    "print(\"\\nFirst 10 features:\")\n",
    "print(feature_names[:10])"
   ]
  },
  {
   "cell_type": "markdown",
   "metadata": {},
   "source": [
    "## 5. Train and Evaluate Model\n",
    "\n",
    "Now we'll split the data, train our model, and evaluate its performance."
   ]
  },
  {
   "cell_type": "code",
   "execution_count": null,
   "metadata": {},
   "outputs": [],
   "source": [
    "from sklearn.model_selection import train_test_split\n",
    "\n",
    "# Split the data into train and test sets\n",
    "X_train, X_test, y_train, y_test = train_test_split(\n",
    "    X, y, test_size=0.2, random_state=42, stratify=y\n",
    ")\n",
    "\n",
    "print(f\"Training set shape: {X_train.shape}\")\n",
    "print(f\"Test set shape: {X_test.shape}\")"
   ]
  },
  {
   "cell_type": "code",
   "execution_count": null,
   "metadata": {},
   "outputs": [],
   "source": [
    "# Initialize and train the model\n",
    "model = SentimentModel(model_type='logistic', class_weight='balanced')\n",
    "model.train(X_train, y_train)\n",
    "\n",
    "# Evaluate the model\n",
    "results = model.evaluate(X_test, y_test)\n",
    "\n",
    "print(\"Model evaluation results:\")\n",
    "print(f\"Accuracy: {results['accuracy']:.4f}\")\n",
    "print(f\"Precision: {results['precision']:.4f}\")\n",
    "print(f\"Recall: {results['recall']:.4f}\")\n",
    "print(f\"F1 Score: {results['f1']:.4f}\")\n",
    "print(\"\\nClassification Report:\")\n",
    "print(results['report'])"
   ]
  },
  {
   "cell_type": "markdown",
   "metadata": {},
   "source": [
    "## 6. Visualize Model Results\n",
    "\n",
    "Let's visualize the confusion matrix to better understand our model's performance."
   ]
  },
  {
   "cell_type": "code",
   "execution_count": null,
   "metadata": {},
   "outputs": [],
   "source": [
    "from sklearn.metrics import confusion_matrix\n",
    "\n",
    "# Get predictions\n",
    "y_pred = model.predict(X_test)\n",
    "\n",
    "# Compute confusion matrix\n",
    "cm = confusion_matrix(y_test, y_pred)\n",
    "\n",
    "# Plot confusion matrix\n",
    "plt.figure(figsize=(8, 6))\n",
    "sns.heatmap(cm, annot=True, fmt='d', cmap='Blues')\n",
    "plt.title('Confusion Matrix')\n",
    "plt.ylabel('True Label')\n",
    "plt.xlabel('Predicted Label')\n",
    "plt.show()"
   ]
  },
  {
   "cell_type": "markdown",
   "metadata": {},
   "source": [
    "## 7. Save the Model and Feature Extractor\n",
    "\n",
    "Let's save our trained model and feature extractor so we can use them later."
   ]
  },
  {
   "cell_type": "code",
   "execution_count": null,
   "metadata": {},
   "outputs": [],
   "source": [
    "import pickle\n",
    "\n",
    "# Create directory if it doesn't exist\n",
    "os.makedirs('../models', exist_ok=True)\n",
    "\n",
    "# Save the model\n",
    "model.save('../models/notebook_sentiment_model.pkl')\n",
    "\n",
    "# Save the feature extractor\n",
    "with open('../models/notebook_feature_extractor.pkl', 'wb') as f:\n",
    "    pickle.dump(feature_extractor, f)\n",
    "    \n",
    "print(\"Model and feature extractor saved successfully!\")"
   ]
  },
  {
   "cell_type": "markdown",
   "metadata": {},
   "source": [
    "## 8. Interactive Sentiment Analysis\n",
    "\n",
    "Finally, let's try our model on some custom text inputs!"
   ]
  },
  {
   "cell_type": "code",
   "execution_count": null,
   "metadata": {},
   "outputs": [],
   "source": [
    "def analyze_sentiment(text):\n",
    "    # Preprocess the text\n",
    "    cleaned_text = preprocessor.clean_text(text)\n",
    "    \n",
    "    # Extract features\n",
    "    features = feature_extractor.transform([cleaned_text])\n",
    "    \n",
    "    # Make prediction\n",
    "    prediction = model.predict(features)[0]\n",
    "    probabilities = model.predict_proba(features)[0]\n",
    "    \n",
    "    # Print results\n",
    "    print(f\"Text: {text}\")\n",
    "    print(f\"Cleaned Text: {cleaned_text}\")\n",
    "    print(f\"Sentiment: {'POSITIVE' if prediction == 1 else 'NEGATIVE'}\")\n",
    "    print(f\"Confidence: {max(probabilities):.2%}\")\n",
    "    print(\"Probability Distribution:\")\n",
    "    print(f\"  Negative: {probabilities[0]:.2%}\")\n",
    "    print(f\"  Positive: {probabilities[1]:.2%}\")"
   ]
  },
  {
   "cell_type": "code",
   "execution_count": null,
   "metadata": {},
   "outputs": [],
   "source": [
    "# Try with some examples\n",
    "analyze_sentiment(\"I absolutely loved this movie! It was fantastic.\")"
   ]
  },
  {
   "cell_type": "code",
   "execution_count": null,
   "metadata": {},
   "outputs": [],
   "source": [
    "analyze_sentiment(\"The movie was terrible. I wasted my money.\")"
   ]
  },
  {
   "cell_type": "code",
   "execution_count": null,
   "metadata": {},
   "outputs": [],
   "source": [
    "analyze_sentiment(\"It was okay. Not great but not terrible either.\")"
   ]
  },
  {
   "cell_type": "code",
   "execution_count": null,
   "metadata": {},
   "outputs": [],
   "source": [
    "# Try your own examples!\n",
    "your_text = input(\"Enter text to analyze: \")\n",
    "analyze_sentiment(your_text)"
   ]
  },
  {
   "cell_type": "markdown",
   "metadata": {},
   "source": [
    "## Conclusion\n",
    "\n",
    "In this notebook, we've demonstrated the complete workflow for sentiment analysis:\n",
    "\n",
    "1. Loading and exploring the data\n",
    "2. Preprocessing text data\n",
    "3. Extracting features using TF-IDF\n",
    "4. Training and evaluating a sentiment classification model\n",
    "5. Visualizing results\n",
    "6. Using the model for real-time sentiment analysis\n",
    "\n",
    "This approach can be extended to more complex datasets and different domains by adjusting the preprocessing steps, feature extraction methods, and model architectures."
   ]
  },
  {
   "cell_type": "code",
   "execution_count": null,
   "metadata": {},
   "outputs": [],
   "source": []
  },
  {
   "cell_type": "code",
   "execution_count": null,
   "metadata": {},
   "outputs": [],
   "source": []
  },
  {
   "cell_type": "code",
   "execution_count": null,
   "metadata": {},
   "outputs": [],
   "source": []
  }
 ],
 "metadata": {
  "kernelspec": {
   "display_name": "Python 3 (ipykernel)",
   "language": "python",
   "name": "python3"
  },
  "language_info": {
   "codemirror_mode": {
    "name": "ipython",
    "version": 3
   },
   "file_extension": ".py",
   "mimetype": "text/x-python",
   "name": "python",
   "nbconvert_exporter": "python",
   "pygments_lexer": "ipython3",
   "version": "3.8.10"
  }
 },
 "nbformat": 4,
 "nbformat_minor": 4
}
